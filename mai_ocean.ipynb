{
  "nbformat": 4,
  "nbformat_minor": 0,
  "metadata": {
    "colab": {
      "provenance": []
    },
    "kernelspec": {
      "name": "python3",
      "display_name": "Python 3"
    },
    "language_info": {
      "name": "python"
    }
  },
  "cells": [
    {
      "cell_type": "markdown",
      "source": [
        "# Global Solution - MAI OCEAN"
      ],
      "metadata": {
        "id": "DTDLcEhKFmMy"
      }
    },
    {
      "cell_type": "markdown",
      "source": [
        "## O nosso grupo optou pelo subdesafio de desenvolver modelos preditivos com machine learning para prever condições ambientais marítimas."
      ],
      "metadata": {
        "id": "gRYy_bCcFgVC"
      }
    },
    {
      "cell_type": "markdown",
      "source": [
        "Desenvolver modelos preditivos usando técnicas de Machine Learning para prever condições ambientais\n",
        "marítimas. O desenvolvimento envolve as etapas de exploração de dados, levantamento de hipótese,\n",
        "criação e treinamento de modelo com validações e conclusão (20 pontos). Tenha em mente como ajudar a\n",
        "antecipar eventos prejudiciais para a vida marinha"
      ],
      "metadata": {
        "id": "VRK8HIb7MoFD"
      }
    }
  ]
}