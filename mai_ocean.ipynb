{
  "nbformat": 4,
  "nbformat_minor": 0,
  "metadata": {
    "colab": {
      "provenance": []
    },
    "kernelspec": {
      "name": "python3",
      "display_name": "Python 3"
    },
    "language_info": {
      "name": "python"
    }
  },
  "cells": [
    {
      "cell_type": "markdown",
      "source": [
        "# Global Solution - MAI OCEAN\n",
        "\n",
        "\n"
      ],
      "metadata": {
        "id": "DTDLcEhKFmMy"
      }
    },
    {
      "cell_type": "markdown",
      "source": [
        "## O nosso grupo optou pelo subdesafio de desenvolver modelos preditivos com machine learning para prever condições ambientais marítimas."
      ],
      "metadata": {
        "id": "gRYy_bCcFgVC"
      }
    },
    {
      "cell_type": "markdown",
      "source": [
        "Desenvolver modelos preditivos usando técnicas de Machine Learning para prever condições ambientais\n",
        "marítimas. O desenvolvimento envolve as etapas de exploração de dados, levantamento de hipótese,\n",
        "criação e treinamento de modelo com validações e conclusão."
      ],
      "metadata": {
        "id": "VRK8HIb7MoFD"
      }
    },
    {
      "cell_type": "markdown",
      "source": [
        "## Pré-processamento de dados"
      ],
      "metadata": {
        "id": "ZLAsCwXacz4t"
      }
    },
    {
      "cell_type": "markdown",
      "source": [
        "Dados meteorológicos e oceanográficos em tempo real coletados da rede de estações Weather Buoy ancoradas na Irlanda. Os parâmetros coletados incluem DateTime (yyyy-mm-ddThh:mm:ss.sss), pressão atmosférica (mbar), temperatura do ar (degreeCelsius), temperatura do ponto de orvalho (degreeCelsius), velocidade do vento (nós), velocidade máxima do vento de rajada (nós) , Direção do Vento (degreeTrue), Temperatura da Superfície do Mar (degreeCelsius), Período das Ondas (segundos), Altura das Ondas (metros) e Umidade Relativa (%). Dados em tempo real disponíveis para M2, M3, M4, M5 e M6. Dados históricos disponíveis para localização espacial M1, FS1 e M4 original. Os usuários do serviço de download podem escolher uma estação, período de tempo, parâmetro(s) e tipo de arquivo de saída. O download avançado permite que um usuário defina uma área de interesse da caixa delimitadora selecionando uma ou mais bóias da rede. 'NaN' ou '-999' descreve dados ausentes ou indisponíveis."
      ],
      "metadata": {
        "id": "UKfFfIgqcWXV"
      }
    },
    {
      "cell_type": "markdown",
      "source": [
        "Real time meteorological and oceanographic data collected from the Irish moored Weather Buoy network of stations. Parameters collected include, DateTime (yyyy-mm-ddThh:mm:ss.sss), Atmospheric Pressure (mbar), Air Temperature (degreeCelsius), DewPoint Temperature (degreeCelsius), Wind Speed (knots), Max Gust Wind Speed (knots), Wind Direction (degreeTrue), Sea Surface Temperature (degreeCelsius), Wave Period (seconds), Wave Height (metres) and Relative Humidity (%). Real time data available for M2, M3, M4, M5 and M6. Historical data available for M1, FS1 and original M4 spatial location. Users of the download service can choose a station, time period, parameter(s) and output file type. Advanced download allows a user define a bounding box area of interest selecting one or more buoys from the network. 'NaN' or '-999' describes missing or unavailable data."
      ],
      "metadata": {
        "id": "NQEbZ5qqmubA"
      }
    },
    {
      "cell_type": "markdown",
      "source": [
        "Dataset abrangente sobre conjunto de dados meteorológicos e oceanográficos\n",
        "-\n",
        "-\n",
        "-\n",
        "-\n",
        "-\n",
        "-\n",
        "\n"
      ],
      "metadata": {
        "id": "_ghM7mEF77Tr"
      }
    },
    {
      "cell_type": "code",
      "source": [
        "import pandas as pd"
      ],
      "metadata": {
        "id": "joNV8CT2cS0O"
      },
      "execution_count": 6,
      "outputs": []
    },
    {
      "cell_type": "code",
      "source": [
        "dados = ''"
      ],
      "metadata": {
        "id": "ZmohORrscU3_"
      },
      "execution_count": null,
      "outputs": []
    },
    {
      "cell_type": "code",
      "source": [
        "df = pd.read_csv()"
      ],
      "metadata": {
        "id": "ul2LFf0sciq8"
      },
      "execution_count": null,
      "outputs": []
    },
    {
      "cell_type": "code",
      "source": [
        "print(df)"
      ],
      "metadata": {
        "id": "fJBglXuVcnct"
      },
      "execution_count": null,
      "outputs": []
    },
    {
      "cell_type": "code",
      "source": [
        "df = pd.read_csv('https://query.data.world/s/fzhyg3iwyum2omkmdtbhhhgb6b7fyd?dws=00000')"
      ],
      "metadata": {
        "colab": {
          "base_uri": "https://localhost:8080/"
        },
        "id": "PMUzzINjbjdO",
        "outputId": "bfa03dd9-a59c-401e-882e-99d733275408"
      },
      "execution_count": 7,
      "outputs": [
        {
          "output_type": "stream",
          "name": "stderr",
          "text": [
            "<ipython-input-7-86cd0b6af0f5>:1: DtypeWarning: Columns (1,2,4,5,6,7,8,9,10,11,12,13,14,15) have mixed types. Specify dtype option on import or set low_memory=False.\n",
            "  df = pd.read_csv('https://query.data.world/s/fzhyg3iwyum2omkmdtbhhhgb6b7fyd?dws=00000')\n"
          ]
        }
      ]
    },
    {
      "cell_type": "code",
      "source": [
        "print(df)"
      ],
      "metadata": {
        "colab": {
          "base_uri": "https://localhost:8080/"
        },
        "id": "D-1af1RabqKE",
        "outputId": "881c0dea-5124-42ca-a565-d9e8384e757d"
      },
      "execution_count": 8,
      "outputs": [
        {
          "output_type": "stream",
          "name": "stdout",
          "text": [
            "       station_id     longitude       latitude                  time  \\\n",
            "0             NaN  degrees_east  degrees_north                   UTC   \n",
            "1              M1         -11.2        53.1266  2001-02-06T13:00:00Z   \n",
            "2              M1         -11.2        53.1266  2001-02-06T14:00:00Z   \n",
            "3              M1         -11.2        53.1266  2001-02-06T15:00:00Z   \n",
            "4              M1         -11.2        53.1266  2001-02-06T16:00:00Z   \n",
            "...           ...           ...            ...                   ...   \n",
            "613388         M6     -15.88135       53.07482  2017-11-28T09:00:00Z   \n",
            "613389         M2     -5.424046      53.481003  2017-11-28T10:00:00Z   \n",
            "613390         M4     -9.999136      54.999966  2017-11-28T10:00:00Z   \n",
            "613391         M5     -6.704336      51.690426  2017-11-28T10:00:00Z   \n",
            "613392         M6     -15.88135       53.07482  2017-11-28T10:00:00Z   \n",
            "\n",
            "       AtmosphericPressure WindDirection WindSpeed    Gust WaveHeight  \\\n",
            "0                       mb  degrees_true        kn      kn          m   \n",
            "1                    967.6         270.0     21.98    33.1        NaN   \n",
            "2                    969.8         270.0     23.93    35.0        NaN   \n",
            "3                    972.0         270.0     19.07    31.1        NaN   \n",
            "4                    973.6         270.0     15.95    25.3        NaN   \n",
            "...                    ...           ...       ...     ...        ...   \n",
            "613388              1026.1         340.0      18.0    29.0        3.4   \n",
            "613389            1011.926           NaN    21.916  28.462      1.719   \n",
            "613390            1018.994           3.0    20.493  28.035        NaN   \n",
            "613391            1015.442         339.0    21.631  28.462      1.719   \n",
            "613392              1026.5         360.0      21.0    27.0        3.1   \n",
            "\n",
            "       WavePeriod MeanWaveDirection   Hmax AirTemperature  DewPoint  \\\n",
            "0               s      degrees_true      m       degree_C  degree_C   \n",
            "1             NaN               NaN    NaN            8.9       NaN   \n",
            "2             NaN               NaN    NaN            8.5       NaN   \n",
            "3             NaN               NaN    NaN            8.9       NaN   \n",
            "4             NaN               NaN    NaN            9.1       NaN   \n",
            "...           ...               ...    ...            ...       ...   \n",
            "613388        7.0               NaN    NaN            9.0       4.2   \n",
            "613389      4.219               NaN  2.813          9.116       NaN   \n",
            "613390        NaN               NaN    NaN          8.467       NaN   \n",
            "613391       4.57               NaN  2.578          7.612       NaN   \n",
            "613392        7.0               NaN    NaN            8.3       3.7   \n",
            "\n",
            "       SeaTemperature RelativeHumidity  QC_Flag  \n",
            "0            degree_C          percent      NaN  \n",
            "1                 9.0              NaN      1.0  \n",
            "2                 9.0              NaN      1.0  \n",
            "3                 9.0              NaN      1.0  \n",
            "4                 9.0              NaN      1.0  \n",
            "...               ...              ...      ...  \n",
            "613388           12.7             72.0      0.0  \n",
            "613389         12.988           79.688      0.0  \n",
            "613390         11.279           67.578      0.0  \n",
            "613391         12.373           74.609      0.0  \n",
            "613392           12.7             73.0      0.0  \n",
            "\n",
            "[613393 rows x 17 columns]\n"
          ]
        }
      ]
    },
    {
      "cell_type": "code",
      "source": [
        "df.head()"
      ],
      "metadata": {
        "colab": {
          "base_uri": "https://localhost:8080/",
          "height": 296
        },
        "id": "34v6KO7ybu9G",
        "outputId": "ead20863-6341-4165-99bc-47ee224bb92c"
      },
      "execution_count": 11,
      "outputs": [
        {
          "output_type": "execute_result",
          "data": {
            "text/plain": [
              "  station_id     longitude       latitude                  time  \\\n",
              "0        NaN  degrees_east  degrees_north                   UTC   \n",
              "1         M1         -11.2        53.1266  2001-02-06T13:00:00Z   \n",
              "2         M1         -11.2        53.1266  2001-02-06T14:00:00Z   \n",
              "3         M1         -11.2        53.1266  2001-02-06T15:00:00Z   \n",
              "4         M1         -11.2        53.1266  2001-02-06T16:00:00Z   \n",
              "\n",
              "  AtmosphericPressure WindDirection WindSpeed  Gust WaveHeight WavePeriod  \\\n",
              "0                  mb  degrees_true        kn    kn          m          s   \n",
              "1               967.6         270.0     21.98  33.1        NaN        NaN   \n",
              "2               969.8         270.0     23.93  35.0        NaN        NaN   \n",
              "3               972.0         270.0     19.07  31.1        NaN        NaN   \n",
              "4               973.6         270.0     15.95  25.3        NaN        NaN   \n",
              "\n",
              "  MeanWaveDirection Hmax AirTemperature  DewPoint SeaTemperature  \\\n",
              "0      degrees_true    m       degree_C  degree_C       degree_C   \n",
              "1               NaN  NaN            8.9       NaN            9.0   \n",
              "2               NaN  NaN            8.5       NaN            9.0   \n",
              "3               NaN  NaN            8.9       NaN            9.0   \n",
              "4               NaN  NaN            9.1       NaN            9.0   \n",
              "\n",
              "  RelativeHumidity  QC_Flag  \n",
              "0          percent      NaN  \n",
              "1              NaN      1.0  \n",
              "2              NaN      1.0  \n",
              "3              NaN      1.0  \n",
              "4              NaN      1.0  "
            ],
            "text/html": [
              "\n",
              "  <div id=\"df-01efb427-2b02-4bd6-93a9-ceba324e6500\" class=\"colab-df-container\">\n",
              "    <div>\n",
              "<style scoped>\n",
              "    .dataframe tbody tr th:only-of-type {\n",
              "        vertical-align: middle;\n",
              "    }\n",
              "\n",
              "    .dataframe tbody tr th {\n",
              "        vertical-align: top;\n",
              "    }\n",
              "\n",
              "    .dataframe thead th {\n",
              "        text-align: right;\n",
              "    }\n",
              "</style>\n",
              "<table border=\"1\" class=\"dataframe\">\n",
              "  <thead>\n",
              "    <tr style=\"text-align: right;\">\n",
              "      <th></th>\n",
              "      <th>station_id</th>\n",
              "      <th>longitude</th>\n",
              "      <th>latitude</th>\n",
              "      <th>time</th>\n",
              "      <th>AtmosphericPressure</th>\n",
              "      <th>WindDirection</th>\n",
              "      <th>WindSpeed</th>\n",
              "      <th>Gust</th>\n",
              "      <th>WaveHeight</th>\n",
              "      <th>WavePeriod</th>\n",
              "      <th>MeanWaveDirection</th>\n",
              "      <th>Hmax</th>\n",
              "      <th>AirTemperature</th>\n",
              "      <th>DewPoint</th>\n",
              "      <th>SeaTemperature</th>\n",
              "      <th>RelativeHumidity</th>\n",
              "      <th>QC_Flag</th>\n",
              "    </tr>\n",
              "  </thead>\n",
              "  <tbody>\n",
              "    <tr>\n",
              "      <th>0</th>\n",
              "      <td>NaN</td>\n",
              "      <td>degrees_east</td>\n",
              "      <td>degrees_north</td>\n",
              "      <td>UTC</td>\n",
              "      <td>mb</td>\n",
              "      <td>degrees_true</td>\n",
              "      <td>kn</td>\n",
              "      <td>kn</td>\n",
              "      <td>m</td>\n",
              "      <td>s</td>\n",
              "      <td>degrees_true</td>\n",
              "      <td>m</td>\n",
              "      <td>degree_C</td>\n",
              "      <td>degree_C</td>\n",
              "      <td>degree_C</td>\n",
              "      <td>percent</td>\n",
              "      <td>NaN</td>\n",
              "    </tr>\n",
              "    <tr>\n",
              "      <th>1</th>\n",
              "      <td>M1</td>\n",
              "      <td>-11.2</td>\n",
              "      <td>53.1266</td>\n",
              "      <td>2001-02-06T13:00:00Z</td>\n",
              "      <td>967.6</td>\n",
              "      <td>270.0</td>\n",
              "      <td>21.98</td>\n",
              "      <td>33.1</td>\n",
              "      <td>NaN</td>\n",
              "      <td>NaN</td>\n",
              "      <td>NaN</td>\n",
              "      <td>NaN</td>\n",
              "      <td>8.9</td>\n",
              "      <td>NaN</td>\n",
              "      <td>9.0</td>\n",
              "      <td>NaN</td>\n",
              "      <td>1.0</td>\n",
              "    </tr>\n",
              "    <tr>\n",
              "      <th>2</th>\n",
              "      <td>M1</td>\n",
              "      <td>-11.2</td>\n",
              "      <td>53.1266</td>\n",
              "      <td>2001-02-06T14:00:00Z</td>\n",
              "      <td>969.8</td>\n",
              "      <td>270.0</td>\n",
              "      <td>23.93</td>\n",
              "      <td>35.0</td>\n",
              "      <td>NaN</td>\n",
              "      <td>NaN</td>\n",
              "      <td>NaN</td>\n",
              "      <td>NaN</td>\n",
              "      <td>8.5</td>\n",
              "      <td>NaN</td>\n",
              "      <td>9.0</td>\n",
              "      <td>NaN</td>\n",
              "      <td>1.0</td>\n",
              "    </tr>\n",
              "    <tr>\n",
              "      <th>3</th>\n",
              "      <td>M1</td>\n",
              "      <td>-11.2</td>\n",
              "      <td>53.1266</td>\n",
              "      <td>2001-02-06T15:00:00Z</td>\n",
              "      <td>972.0</td>\n",
              "      <td>270.0</td>\n",
              "      <td>19.07</td>\n",
              "      <td>31.1</td>\n",
              "      <td>NaN</td>\n",
              "      <td>NaN</td>\n",
              "      <td>NaN</td>\n",
              "      <td>NaN</td>\n",
              "      <td>8.9</td>\n",
              "      <td>NaN</td>\n",
              "      <td>9.0</td>\n",
              "      <td>NaN</td>\n",
              "      <td>1.0</td>\n",
              "    </tr>\n",
              "    <tr>\n",
              "      <th>4</th>\n",
              "      <td>M1</td>\n",
              "      <td>-11.2</td>\n",
              "      <td>53.1266</td>\n",
              "      <td>2001-02-06T16:00:00Z</td>\n",
              "      <td>973.6</td>\n",
              "      <td>270.0</td>\n",
              "      <td>15.95</td>\n",
              "      <td>25.3</td>\n",
              "      <td>NaN</td>\n",
              "      <td>NaN</td>\n",
              "      <td>NaN</td>\n",
              "      <td>NaN</td>\n",
              "      <td>9.1</td>\n",
              "      <td>NaN</td>\n",
              "      <td>9.0</td>\n",
              "      <td>NaN</td>\n",
              "      <td>1.0</td>\n",
              "    </tr>\n",
              "  </tbody>\n",
              "</table>\n",
              "</div>\n",
              "    <div class=\"colab-df-buttons\">\n",
              "\n",
              "  <div class=\"colab-df-container\">\n",
              "    <button class=\"colab-df-convert\" onclick=\"convertToInteractive('df-01efb427-2b02-4bd6-93a9-ceba324e6500')\"\n",
              "            title=\"Convert this dataframe to an interactive table.\"\n",
              "            style=\"display:none;\">\n",
              "\n",
              "  <svg xmlns=\"http://www.w3.org/2000/svg\" height=\"24px\" viewBox=\"0 -960 960 960\">\n",
              "    <path d=\"M120-120v-720h720v720H120Zm60-500h600v-160H180v160Zm220 220h160v-160H400v160Zm0 220h160v-160H400v160ZM180-400h160v-160H180v160Zm440 0h160v-160H620v160ZM180-180h160v-160H180v160Zm440 0h160v-160H620v160Z\"/>\n",
              "  </svg>\n",
              "    </button>\n",
              "\n",
              "  <style>\n",
              "    .colab-df-container {\n",
              "      display:flex;\n",
              "      gap: 12px;\n",
              "    }\n",
              "\n",
              "    .colab-df-convert {\n",
              "      background-color: #E8F0FE;\n",
              "      border: none;\n",
              "      border-radius: 50%;\n",
              "      cursor: pointer;\n",
              "      display: none;\n",
              "      fill: #1967D2;\n",
              "      height: 32px;\n",
              "      padding: 0 0 0 0;\n",
              "      width: 32px;\n",
              "    }\n",
              "\n",
              "    .colab-df-convert:hover {\n",
              "      background-color: #E2EBFA;\n",
              "      box-shadow: 0px 1px 2px rgba(60, 64, 67, 0.3), 0px 1px 3px 1px rgba(60, 64, 67, 0.15);\n",
              "      fill: #174EA6;\n",
              "    }\n",
              "\n",
              "    .colab-df-buttons div {\n",
              "      margin-bottom: 4px;\n",
              "    }\n",
              "\n",
              "    [theme=dark] .colab-df-convert {\n",
              "      background-color: #3B4455;\n",
              "      fill: #D2E3FC;\n",
              "    }\n",
              "\n",
              "    [theme=dark] .colab-df-convert:hover {\n",
              "      background-color: #434B5C;\n",
              "      box-shadow: 0px 1px 3px 1px rgba(0, 0, 0, 0.15);\n",
              "      filter: drop-shadow(0px 1px 2px rgba(0, 0, 0, 0.3));\n",
              "      fill: #FFFFFF;\n",
              "    }\n",
              "  </style>\n",
              "\n",
              "    <script>\n",
              "      const buttonEl =\n",
              "        document.querySelector('#df-01efb427-2b02-4bd6-93a9-ceba324e6500 button.colab-df-convert');\n",
              "      buttonEl.style.display =\n",
              "        google.colab.kernel.accessAllowed ? 'block' : 'none';\n",
              "\n",
              "      async function convertToInteractive(key) {\n",
              "        const element = document.querySelector('#df-01efb427-2b02-4bd6-93a9-ceba324e6500');\n",
              "        const dataTable =\n",
              "          await google.colab.kernel.invokeFunction('convertToInteractive',\n",
              "                                                    [key], {});\n",
              "        if (!dataTable) return;\n",
              "\n",
              "        const docLinkHtml = 'Like what you see? Visit the ' +\n",
              "          '<a target=\"_blank\" href=https://colab.research.google.com/notebooks/data_table.ipynb>data table notebook</a>'\n",
              "          + ' to learn more about interactive tables.';\n",
              "        element.innerHTML = '';\n",
              "        dataTable['output_type'] = 'display_data';\n",
              "        await google.colab.output.renderOutput(dataTable, element);\n",
              "        const docLink = document.createElement('div');\n",
              "        docLink.innerHTML = docLinkHtml;\n",
              "        element.appendChild(docLink);\n",
              "      }\n",
              "    </script>\n",
              "  </div>\n",
              "\n",
              "\n",
              "<div id=\"df-0515c62b-50ea-4c52-8633-a19295fc7be3\">\n",
              "  <button class=\"colab-df-quickchart\" onclick=\"quickchart('df-0515c62b-50ea-4c52-8633-a19295fc7be3')\"\n",
              "            title=\"Suggest charts\"\n",
              "            style=\"display:none;\">\n",
              "\n",
              "<svg xmlns=\"http://www.w3.org/2000/svg\" height=\"24px\"viewBox=\"0 0 24 24\"\n",
              "     width=\"24px\">\n",
              "    <g>\n",
              "        <path d=\"M19 3H5c-1.1 0-2 .9-2 2v14c0 1.1.9 2 2 2h14c1.1 0 2-.9 2-2V5c0-1.1-.9-2-2-2zM9 17H7v-7h2v7zm4 0h-2V7h2v10zm4 0h-2v-4h2v4z\"/>\n",
              "    </g>\n",
              "</svg>\n",
              "  </button>\n",
              "\n",
              "<style>\n",
              "  .colab-df-quickchart {\n",
              "      --bg-color: #E8F0FE;\n",
              "      --fill-color: #1967D2;\n",
              "      --hover-bg-color: #E2EBFA;\n",
              "      --hover-fill-color: #174EA6;\n",
              "      --disabled-fill-color: #AAA;\n",
              "      --disabled-bg-color: #DDD;\n",
              "  }\n",
              "\n",
              "  [theme=dark] .colab-df-quickchart {\n",
              "      --bg-color: #3B4455;\n",
              "      --fill-color: #D2E3FC;\n",
              "      --hover-bg-color: #434B5C;\n",
              "      --hover-fill-color: #FFFFFF;\n",
              "      --disabled-bg-color: #3B4455;\n",
              "      --disabled-fill-color: #666;\n",
              "  }\n",
              "\n",
              "  .colab-df-quickchart {\n",
              "    background-color: var(--bg-color);\n",
              "    border: none;\n",
              "    border-radius: 50%;\n",
              "    cursor: pointer;\n",
              "    display: none;\n",
              "    fill: var(--fill-color);\n",
              "    height: 32px;\n",
              "    padding: 0;\n",
              "    width: 32px;\n",
              "  }\n",
              "\n",
              "  .colab-df-quickchart:hover {\n",
              "    background-color: var(--hover-bg-color);\n",
              "    box-shadow: 0 1px 2px rgba(60, 64, 67, 0.3), 0 1px 3px 1px rgba(60, 64, 67, 0.15);\n",
              "    fill: var(--button-hover-fill-color);\n",
              "  }\n",
              "\n",
              "  .colab-df-quickchart-complete:disabled,\n",
              "  .colab-df-quickchart-complete:disabled:hover {\n",
              "    background-color: var(--disabled-bg-color);\n",
              "    fill: var(--disabled-fill-color);\n",
              "    box-shadow: none;\n",
              "  }\n",
              "\n",
              "  .colab-df-spinner {\n",
              "    border: 2px solid var(--fill-color);\n",
              "    border-color: transparent;\n",
              "    border-bottom-color: var(--fill-color);\n",
              "    animation:\n",
              "      spin 1s steps(1) infinite;\n",
              "  }\n",
              "\n",
              "  @keyframes spin {\n",
              "    0% {\n",
              "      border-color: transparent;\n",
              "      border-bottom-color: var(--fill-color);\n",
              "      border-left-color: var(--fill-color);\n",
              "    }\n",
              "    20% {\n",
              "      border-color: transparent;\n",
              "      border-left-color: var(--fill-color);\n",
              "      border-top-color: var(--fill-color);\n",
              "    }\n",
              "    30% {\n",
              "      border-color: transparent;\n",
              "      border-left-color: var(--fill-color);\n",
              "      border-top-color: var(--fill-color);\n",
              "      border-right-color: var(--fill-color);\n",
              "    }\n",
              "    40% {\n",
              "      border-color: transparent;\n",
              "      border-right-color: var(--fill-color);\n",
              "      border-top-color: var(--fill-color);\n",
              "    }\n",
              "    60% {\n",
              "      border-color: transparent;\n",
              "      border-right-color: var(--fill-color);\n",
              "    }\n",
              "    80% {\n",
              "      border-color: transparent;\n",
              "      border-right-color: var(--fill-color);\n",
              "      border-bottom-color: var(--fill-color);\n",
              "    }\n",
              "    90% {\n",
              "      border-color: transparent;\n",
              "      border-bottom-color: var(--fill-color);\n",
              "    }\n",
              "  }\n",
              "</style>\n",
              "\n",
              "  <script>\n",
              "    async function quickchart(key) {\n",
              "      const quickchartButtonEl =\n",
              "        document.querySelector('#' + key + ' button');\n",
              "      quickchartButtonEl.disabled = true;  // To prevent multiple clicks.\n",
              "      quickchartButtonEl.classList.add('colab-df-spinner');\n",
              "      try {\n",
              "        const charts = await google.colab.kernel.invokeFunction(\n",
              "            'suggestCharts', [key], {});\n",
              "      } catch (error) {\n",
              "        console.error('Error during call to suggestCharts:', error);\n",
              "      }\n",
              "      quickchartButtonEl.classList.remove('colab-df-spinner');\n",
              "      quickchartButtonEl.classList.add('colab-df-quickchart-complete');\n",
              "    }\n",
              "    (() => {\n",
              "      let quickchartButtonEl =\n",
              "        document.querySelector('#df-0515c62b-50ea-4c52-8633-a19295fc7be3 button');\n",
              "      quickchartButtonEl.style.display =\n",
              "        google.colab.kernel.accessAllowed ? 'block' : 'none';\n",
              "    })();\n",
              "  </script>\n",
              "</div>\n",
              "\n",
              "    </div>\n",
              "  </div>\n"
            ],
            "application/vnd.google.colaboratory.intrinsic+json": {
              "type": "dataframe",
              "variable_name": "df"
            }
          },
          "metadata": {},
          "execution_count": 11
        }
      ]
    },
    {
      "cell_type": "markdown",
      "source": [
        "## Análise Exploratória"
      ],
      "metadata": {
        "id": "Qi93kinxn9mh"
      }
    }
  ]
}