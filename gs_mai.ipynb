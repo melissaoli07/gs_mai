{
  "nbformat": 4,
  "nbformat_minor": 0,
  "metadata": {
    "colab": {
      "provenance": []
    },
    "kernelspec": {
      "name": "python3",
      "display_name": "Python 3"
    },
    "language_info": {
      "name": "python"
    }
  },
  "cells": [
    {
      "cell_type": "markdown",
      "source": [
        "# Global Solution"
      ],
      "metadata": {
        "id": "DTDLcEhKFmMy"
      }
    },
    {
      "cell_type": "markdown",
      "source": [
        "## Detecção e Classificação de Espécies"
      ],
      "metadata": {
        "id": "t15aszPlFbw7"
      }
    },
    {
      "cell_type": "markdown",
      "source": [
        "## Modelos preditivos com machine learning para prever condições ambientais marítimas."
      ],
      "metadata": {
        "id": "gRYy_bCcFgVC"
      }
    }
  ]
}